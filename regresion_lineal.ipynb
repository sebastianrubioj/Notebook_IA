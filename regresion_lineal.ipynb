{
 "cells": [
  {
   "cell_type": "markdown",
   "metadata": {},
   "source": [
    "# Regresión Lineal Usando Python \n",
    "\n",
    "La regresión lineal es un método estadístico que estudia la relación lineal existente entre dos variables$^1$, es usado para generar un modelo de datos aproximado a partir de un set de datos real y poder ser utilizado, entre otras cosas, para intentar predecir resultados futuros basados en este \"historico\" de datos (set de datos). Se le llama regresión lineal porque el modelo generado corresponde a la ecuación de una recta $y = ax+b$.\n",
    "\n",
    "En este documento vamos a realizar un modelo implementando la regresión lineal mediante el uso de ![python](https://www.python.org/) correspondiente al numero de personas asesinadas a causa del conflicto armado en Colombia durante el periodo de tiempo 1968-2006.\n",
    "\n",
    "## Historia$^2$\n",
    "\n",
    "La primera forma de regresión lineal documentada fue el método de los mínimos cuadrados que fue publicada por Legendre en 1805, Gauss publicó un trabajo en donde desarrollaba de manera más profunda el método de los mínimos cuadrados, y en dónde se incluía una versión del teorema de Gauss-Márkov.\n",
    "\n",
    "El término regresión se utilizó por primera vez en el estudio de variables antropométricas: al comparar la estatura de padres e hijos, donde resultó que los hijos cuyos padres tenían una estatura muy superior al valor medio, tendían a igualarse a este, mientras que aquellos cuyos padres eran muy bajos tendían a reducir su diferencia respecto a la estatura media; es decir, \"regresaban\" al promedio. La constatación empírica de esta propiedad se vio reforzada más tarde con la justificación teórica de ese fenómeno.\n",
    "\n",
    "El término lineal se emplea para distinguirlo del resto de técnicas de regresión, que emplean modelos basados en cualquier clase de función matemática. Los modelos lineales son una explicación simplificada de la realidad, mucho más ágiles y con un soporte teórico mucho más extenso por parte de la matemática y la estadística.\n",
    "\n",
    "Pero bien, como se ha dicho, se puede usar el término lineal para distinguir modelos basados en cualquier clase de aplicación.\n",
    "\n",
    "## Aplicación\n",
    "\n",
    "Como se mencionó en la introducción, vamos a implementar la regresión lineal para generar un modelo que se aproxime a la relació que hay entre el número de personas asesinadas por año en el periodo de tiempo 1968-2006. Para lo que tenemos que obtener inicialmente un set de datos que nos brinde ésta información:"
   ]
  },
  {
   "cell_type": "code",
   "execution_count": 23,
   "metadata": {},
   "outputs": [],
   "source": [
    "import pandas as pd\n",
    "\n",
    "conflicto = pd.read_excel(\"C:/Users/sebas/Notebooks/tarea_regresion_lineal/Tabla_Conflicto_Armado_2.xlsx\")"
   ]
  },
  {
   "cell_type": "markdown",
   "metadata": {},
   "source": [
    "Estos datos son extraidos de: http://www.ideaspaz.org/especiales/data-fip/homicidios/gra.html"
   ]
  },
  {
   "cell_type": "code",
   "execution_count": 24,
   "metadata": {},
   "outputs": [
    {
     "data": {
      "text/html": [
       "<div>\n",
       "<style scoped>\n",
       "    .dataframe tbody tr th:only-of-type {\n",
       "        vertical-align: middle;\n",
       "    }\n",
       "\n",
       "    .dataframe tbody tr th {\n",
       "        vertical-align: top;\n",
       "    }\n",
       "\n",
       "    .dataframe thead th {\n",
       "        text-align: right;\n",
       "    }\n",
       "</style>\n",
       "<table border=\"1\" class=\"dataframe\">\n",
       "  <thead>\n",
       "    <tr style=\"text-align: right;\">\n",
       "      <th></th>\n",
       "      <th>year</th>\n",
       "      <th>Deaths</th>\n",
       "    </tr>\n",
       "  </thead>\n",
       "  <tbody>\n",
       "    <tr>\n",
       "      <th>0</th>\n",
       "      <td>1986</td>\n",
       "      <td>513</td>\n",
       "    </tr>\n",
       "    <tr>\n",
       "      <th>1</th>\n",
       "      <td>1987</td>\n",
       "      <td>593</td>\n",
       "    </tr>\n",
       "    <tr>\n",
       "      <th>2</th>\n",
       "      <td>1988</td>\n",
       "      <td>1003</td>\n",
       "    </tr>\n",
       "    <tr>\n",
       "      <th>3</th>\n",
       "      <td>1989</td>\n",
       "      <td>1058</td>\n",
       "    </tr>\n",
       "    <tr>\n",
       "      <th>4</th>\n",
       "      <td>1990</td>\n",
       "      <td>942</td>\n",
       "    </tr>\n",
       "    <tr>\n",
       "      <th>5</th>\n",
       "      <td>1991</td>\n",
       "      <td>1538</td>\n",
       "    </tr>\n",
       "    <tr>\n",
       "      <th>6</th>\n",
       "      <td>1992</td>\n",
       "      <td>1717</td>\n",
       "    </tr>\n",
       "    <tr>\n",
       "      <th>7</th>\n",
       "      <td>1993</td>\n",
       "      <td>1257</td>\n",
       "    </tr>\n",
       "    <tr>\n",
       "      <th>8</th>\n",
       "      <td>1994</td>\n",
       "      <td>1638</td>\n",
       "    </tr>\n",
       "    <tr>\n",
       "      <th>9</th>\n",
       "      <td>1995</td>\n",
       "      <td>1227</td>\n",
       "    </tr>\n",
       "    <tr>\n",
       "      <th>10</th>\n",
       "      <td>1996</td>\n",
       "      <td>1443</td>\n",
       "    </tr>\n",
       "    <tr>\n",
       "      <th>11</th>\n",
       "      <td>1997</td>\n",
       "      <td>1746</td>\n",
       "    </tr>\n",
       "    <tr>\n",
       "      <th>12</th>\n",
       "      <td>1998</td>\n",
       "      <td>1387</td>\n",
       "    </tr>\n",
       "    <tr>\n",
       "      <th>13</th>\n",
       "      <td>1999</td>\n",
       "      <td>1493</td>\n",
       "    </tr>\n",
       "    <tr>\n",
       "      <th>14</th>\n",
       "      <td>2000</td>\n",
       "      <td>2091</td>\n",
       "    </tr>\n",
       "    <tr>\n",
       "      <th>15</th>\n",
       "      <td>2001</td>\n",
       "      <td>2678</td>\n",
       "    </tr>\n",
       "    <tr>\n",
       "      <th>16</th>\n",
       "      <td>2002</td>\n",
       "      <td>3922</td>\n",
       "    </tr>\n",
       "    <tr>\n",
       "      <th>17</th>\n",
       "      <td>2003</td>\n",
       "      <td>4909</td>\n",
       "    </tr>\n",
       "    <tr>\n",
       "      <th>18</th>\n",
       "      <td>2004</td>\n",
       "      <td>3420</td>\n",
       "    </tr>\n",
       "    <tr>\n",
       "      <th>19</th>\n",
       "      <td>2005</td>\n",
       "      <td>3462</td>\n",
       "    </tr>\n",
       "    <tr>\n",
       "      <th>20</th>\n",
       "      <td>2006</td>\n",
       "      <td>3947</td>\n",
       "    </tr>\n",
       "  </tbody>\n",
       "</table>\n",
       "</div>"
      ],
      "text/plain": [
       "    year  Deaths\n",
       "0   1986     513\n",
       "1   1987     593\n",
       "2   1988    1003\n",
       "3   1989    1058\n",
       "4   1990     942\n",
       "5   1991    1538\n",
       "6   1992    1717\n",
       "7   1993    1257\n",
       "8   1994    1638\n",
       "9   1995    1227\n",
       "10  1996    1443\n",
       "11  1997    1746\n",
       "12  1998    1387\n",
       "13  1999    1493\n",
       "14  2000    2091\n",
       "15  2001    2678\n",
       "16  2002    3922\n",
       "17  2003    4909\n",
       "18  2004    3420\n",
       "19  2005    3462\n",
       "20  2006    3947"
      ]
     },
     "execution_count": 24,
     "metadata": {},
     "output_type": "execute_result"
    }
   ],
   "source": [
    "conflicto"
   ]
  },
  {
   "cell_type": "markdown",
   "metadata": {},
   "source": [
    "Una vez extraidos estos datos por medio del uso de la librería Pandas de Python la podemos graficar con ánimo de encontrar una relación o una tendencia entre este periodo de tiempo y el número de asesinados."
   ]
  },
  {
   "cell_type": "code",
   "execution_count": 136,
   "metadata": {},
   "outputs": [
    {
     "data": {
      "image/png": "[encoded data removed]",
      "text/plain": [
       "<Figure size 1080x288 with 1 Axes>"
      ]
     },
     "metadata": {
      "needs_background": "light"
     },
     "output_type": "display_data"
    }
   ],
   "source": [
    "import matplotlib.pyplot as plt\n",
    "import numpy as np\n",
    "\n",
    "data_x = conflicto[[\"year\"]]\n",
    "year = np.array(data_x)\n",
    "deaths = conflicto['Deaths'].values\n",
    "\n",
    "fig, ax = plt.subplots()\n",
    "fig.set_figwidth(15)\n",
    "plt.title('Deaths in Colombia caused by the armed conflict')\n",
    "plt.xlabel('year')\n",
    "plt.ylabel('Number of deaths')\n",
    "plt.plot(year, deaths, 'o', color='tab:brown')\n",
    "\n",
    "plt.xticks(year)\n",
    "plt.show()"
   ]
  },
  {
   "cell_type": "markdown",
   "metadata": {},
   "source": [
    "Una vez vemos la grafica que modela el comportamiento de la tabla que vamos a utilizar podemos observar para éste caso que tristemente tiende a ser un comportamiento creciente. Lo que necesitamos ahora es encontrar la mejor pareja de números a y b de tal forma que la recta $y = ax+b$ se aproxime de la mejor forma al comportamiento de nuestro set de datos. \n",
    "\n",
    "Para ésto utilizamos una librería de Python llamada \"linear_model\" que nos ayuda a encontrar éstos valores."
   ]
  },
  {
   "cell_type": "code",
   "execution_count": 144,
   "metadata": {},
   "outputs": [
    {
     "name": "stdout",
     "output_type": "stream",
     "text": [
      "a =  [171.75974026]\n",
      "b =  -340833.20346320333\n"
     ]
    }
   ],
   "source": [
    "from sklearn import linear_model\n",
    "\n",
    "regr = linear_model.LinearRegression()\n",
    "regr.fit(year, y)\n",
    "y_pred = regr.predict(year)\n",
    "\n",
    "print('a = ', regr.coef_)\n",
    "print('b = ', regr.intercept_)"
   ]
  },
  {
   "cell_type": "markdown",
   "metadata": {},
   "source": [
    "Por lo tanto nuestra gráfica tendrá la forma $y = (171.75974026)x-340833.20346320333$\n",
    "\n",
    "Y al graficar la recta resultante obtendremos una gráfica que se asemeja al comportamiento de los datos de nuestra prueba:"
   ]
  },
  {
   "cell_type": "code",
   "execution_count": 146,
   "metadata": {},
   "outputs": [
    {
     "data": {
      "image/png": "[encoded data removed]",
      "text/plain": [
       "<Figure size 1080x288 with 1 Axes>"
      ]
     },
     "metadata": {
      "needs_background": "light"
     },
     "output_type": "display_data"
    }
   ],
   "source": [
    "fig, ax = plt.subplots()\n",
    "fig.set_figwidth(15)\n",
    "plt.title('Deaths in Colombia caused by the armed conflict')\n",
    "plt.xlabel('year')\n",
    "plt.ylabel('Number of deaths')\n",
    "ax.plot(year, y_pred, '-')\n",
    "ax.plot(year, deaths, 'o', color='tab:brown')\n",
    "\n",
    "plt.xticks(year)\n",
    "plt.show()"
   ]
  },
  {
   "cell_type": "markdown",
   "metadata": {},
   "source": [
    "## Conclusiones\n",
    "\n",
    "- Aunque la regresión lineal es el método estadistico más sencillo para el modelamiento de datos, es una erramienta muy útil tanto para el aprendizaje como para generar aproximaciones muy acertadas según los datos que se quieran modelar\n",
    "\n",
    "- Se puede ver claramente cómo mediante el uso de herramientas como python podemos realizar modelos lineales de forma muy sencilla y rápida.\n",
    "\n",
    "- Parece ser que la tendencia ascendente de ésta triste estadística podría haber seguido creciendo después del 2006 de no ser por un respiro que tuvo parcialmente el país gracias al acuerdo de paz.\n",
    "\n",
    "- Valdría la pena validar la conclusión anterior con un recopilado de datos del 2006 hasta la fecha y ver cómo va la tendencia. Y comprobar si realmente a cambiado gracias al acuerdo de paz o por el contrario sigue en asenso."
   ]
  },
  {
   "cell_type": "markdown",
   "metadata": {},
   "source": [
    "## Referencias:\n",
    "\n",
    "1. https://www.cienciadedatos.net/documentos/24_correlacion_y_regresion_lineal\n",
    "2. https://es.wikipedia.org/wiki/Regresi%C3%B3n_lineal#Historia\n",
    "3. https://github.com/AprendizajeProfundo/Diplomado/blob/master/Temas/M%C3%B3dulo%201-%20Matem%C3%A1ticas%20y%20Estad%C3%ADstica/2.%20Estad%C3%ADsica%2C%20Teor%C3%ADa%20de%20la%20Decisi%C3%B3n%20y%20Teor%C3%ADa%20de%20la%20informaci%C3%B3n/Cuadernos/am_intro_regresion.ipynb\n",
    "4. https://www.aprendemachinelearning.com/regresion-lineal-en-espanol-con-python/"
   ]
  },
  {
   "cell_type": "code",
   "execution_count": null,
   "metadata": {},
   "outputs": [],
   "source": []
  }
 ],
 "metadata": {
  "kernelspec": {
   "display_name": "Python 3",
   "language": "python",
   "name": "python3"
  },
  "language_info": {
   "codemirror_mode": {
    "name": "ipython",
    "version": 3
   },
   "file_extension": ".py",
   "mimetype": "text/x-python",
   "name": "python",
   "nbconvert_exporter": "python",
   "pygments_lexer": "ipython3",
   "version": "3.8.5"
  }
 },
 "nbformat": 4,
 "nbformat_minor": 4
}
