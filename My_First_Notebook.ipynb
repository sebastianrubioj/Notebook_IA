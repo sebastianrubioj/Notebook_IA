{
  "nbformat": 4,
  "nbformat_minor": 0,
  "metadata": {
    "colab": {
      "name": "My First Notebook.ipynb",
      "provenance": []
    },
    "kernelspec": {
      "name": "python3",
      "display_name": "Python 3"
    }
  },
  "cells": [
    {
      "cell_type": "code",
      "metadata": {
        "id": "kOJCvchMbhOM"
      },
      "source": [
        ""
      ],
      "execution_count": null,
      "outputs": []
    },
    {
      "cell_type": "markdown",
      "metadata": {
        "id": "vkCiGoWzdNcO"
      },
      "source": [
        "# Anything Title\r\n"
      ]
    },
    {
      "cell_type": "markdown",
      "metadata": {
        "id": "UWF0n8pujx_q"
      },
      "source": [
        "\r\n",
        "## 1. Any SubTitle\r\n"
      ]
    },
    {
      "cell_type": "markdown",
      "metadata": {
        "id": "o8Mg4rXRkjVY"
      },
      "source": [
        "*Links*:\r\n",
        "\r\n",
        "[AI Wikipedia](https://es.wikipedia.org/wiki/AI)\r\n",
        "\r\n",
        "[Markdawn](https://www.markdownguide.org/basic-syntax/)\r\n",
        "\r\n",
        "**Images**:\r\n",
        "\r\n",
        "![AI Brain](https://storage.googleapis.com/dev-dot-ai-project-ic.appspot.com/1/2020/05/960x0.jpg)\r\n",
        "\r\n",
        "*\\\"Hola\\\"*\r\n",
        "\r\n",
        "> Hola pirinola\r\n"
      ]
    },
    {
      "cell_type": "code",
      "metadata": {
        "id": "XQ5xRjhLd7kr"
      },
      "source": [
        ""
      ],
      "execution_count": null,
      "outputs": []
    },
    {
      "cell_type": "markdown",
      "metadata": {
        "id": "Y_tSgaymlouT"
      },
      "source": [
        "# LaTeX"
      ]
    },
    {
      "cell_type": "markdown",
      "metadata": {
        "id": "iL9V6rpHlwCV"
      },
      "source": [
        "Primera formula:\r\n",
        "\r\n",
        "$$y=x^2$$\r\n",
        "\r\n",
        "$$\\frac{dc}{dt}=kC$$"
      ]
    },
    {
      "cell_type": "code",
      "metadata": {
        "colab": {
          "base_uri": "https://localhost:8080/"
        },
        "id": "oQXmqZyrnzJ2",
        "outputId": "70ba7672-0193-4a3b-b5e6-28360f3b63a5"
      },
      "source": [
        "print(\"¡Aiudaaaaaaa!\")"
      ],
      "execution_count": 1,
      "outputs": [
        {
          "output_type": "stream",
          "text": [
            "¡Aiudaaaaaaa!\n"
          ],
          "name": "stdout"
        }
      ]
    }
  ]
}